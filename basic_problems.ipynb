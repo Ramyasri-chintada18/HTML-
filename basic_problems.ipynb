{
  "nbformat": 4,
  "nbformat_minor": 0,
  "metadata": {
    "colab": {
      "provenance": [],
      "authorship_tag": "ABX9TyP+83Xs5u/9BrE8CpG8dFBN",
      "include_colab_link": true
    },
    "kernelspec": {
      "name": "python3",
      "display_name": "Python 3"
    },
    "language_info": {
      "name": "python"
    }
  },
  "cells": [
    {
      "cell_type": "markdown",
      "metadata": {
        "id": "view-in-github",
        "colab_type": "text"
      },
      "source": [
        "<a href=\"https://colab.research.google.com/github/Ramyasri-chintada18/HTML-/blob/main/basic_problems.ipynb\" target=\"_parent\"><img src=\"https://colab.research.google.com/assets/colab-badge.svg\" alt=\"Open In Colab\"/></a>"
      ]
    },
    {
      "cell_type": "code",
      "execution_count": null,
      "metadata": {
        "colab": {
          "base_uri": "https://localhost:8080/"
        },
        "id": "7LGPtA9uVdps",
        "outputId": "375c7f23-f90e-4cd0-a981-638b70b3a4b2"
      },
      "outputs": [
        {
          "output_type": "stream",
          "name": "stdout",
          "text": [
            "6\n",
            "5\n",
            "11\n"
          ]
        }
      ],
      "source": [
        "#addition of two numbers\n",
        "a=int(input())\n",
        "b=int(input())\n",
        "print(a+b)"
      ]
    },
    {
      "cell_type": "code",
      "source": [
        "#even or odd\n",
        "a=int(input())\n",
        "if(a%2==0):\n",
        "    print(\"Even\")\n",
        "else:\n",
        "    print(\"Odd\")"
      ],
      "metadata": {
        "colab": {
          "base_uri": "https://localhost:8080/"
        },
        "id": "yCHBmtxtWPvP",
        "outputId": "ce86ab63-9aac-49c1-af23-194851c850d3"
      },
      "execution_count": null,
      "outputs": [
        {
          "output_type": "stream",
          "name": "stdout",
          "text": [
            "5\n",
            "Odd\n"
          ]
        }
      ]
    },
    {
      "cell_type": "code",
      "source": [
        "#maximum of two numbers\n",
        "a=int(input())\n",
        "b=int(input())\n",
        "if(a>b):\n",
        "  print(a)\n",
        "else:\n",
        "  print(b)"
      ],
      "metadata": {
        "colab": {
          "base_uri": "https://localhost:8080/"
        },
        "id": "MohFPFn3Wt5S",
        "outputId": "02cce98f-c3da-4626-b182-f205a7f337b1"
      },
      "execution_count": null,
      "outputs": [
        {
          "output_type": "stream",
          "name": "stdout",
          "text": [
            "51\n",
            "59\n",
            "59\n"
          ]
        }
      ]
    },
    {
      "cell_type": "code",
      "source": [
        "#maximum of three\n",
        "a=int(input())\n",
        "b=int(input())\n",
        "c=int(input())\n",
        "if(a>b and a>c):\n",
        "  print(a)\n",
        "elif(b>c):\n",
        "  print(b)\n",
        "else:\n",
        "  print(c)"
      ],
      "metadata": {
        "colab": {
          "base_uri": "https://localhost:8080/"
        },
        "id": "UTmkZ8z9XNhQ",
        "outputId": "b2e9cf1f-5207-4029-d092-2df1d96fc86b"
      },
      "execution_count": null,
      "outputs": [
        {
          "output_type": "stream",
          "name": "stdout",
          "text": [
            "5\n",
            "67\n",
            "4\n",
            "67\n"
          ]
        }
      ]
    },
    {
      "cell_type": "code",
      "source": [
        "#factorial\n",
        "n=int(input())\n",
        "fact=1\n",
        "for i in range(1,n+1):\n",
        "  fact=fact*i\n",
        "print(fact)"
      ],
      "metadata": {
        "colab": {
          "base_uri": "https://localhost:8080/"
        },
        "id": "qqcUBRrgZqEj",
        "outputId": "ed9bbc22-7e5b-4506-e094-bbd51cb9e42e"
      },
      "execution_count": null,
      "outputs": [
        {
          "output_type": "stream",
          "name": "stdout",
          "text": [
            "5\n",
            "120\n"
          ]
        }
      ]
    }
  ]
}