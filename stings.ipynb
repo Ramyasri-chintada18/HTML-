{
  "nbformat": 4,
  "nbformat_minor": 0,
  "metadata": {
    "colab": {
      "provenance": [],
      "authorship_tag": "ABX9TyO/pQo7aUFK1ecU7kx09Kxi",
      "include_colab_link": true
    },
    "kernelspec": {
      "name": "python3",
      "display_name": "Python 3"
    },
    "language_info": {
      "name": "python"
    }
  },
  "cells": [
    {
      "cell_type": "markdown",
      "metadata": {
        "id": "view-in-github",
        "colab_type": "text"
      },
      "source": [
        "<a href=\"https://colab.research.google.com/github/Ramyasri-chintada18/HTML-/blob/main/stings.ipynb\" target=\"_parent\"><img src=\"https://colab.research.google.com/assets/colab-badge.svg\" alt=\"Open In Colab\"/></a>"
      ]
    },
    {
      "cell_type": "code",
      "execution_count": null,
      "metadata": {
        "colab": {
          "base_uri": "https://localhost:8080/"
        },
        "id": "dN3oCyFLqQF-",
        "outputId": "22ed3f8a-f109-48a9-c6b4-c78544a84769"
      },
      "outputs": [
        {
          "output_type": "stream",
          "name": "stdout",
          "text": [
            "6\n",
            "even\n"
          ]
        }
      ],
      "source": [
        "a=int(input ())\n",
        "if(a%2==0):\n",
        "   print(\"even\")\n",
        "else:\n",
        "   print(\"odd\")"
      ]
    },
    {
      "cell_type": "code",
      "source": [
        "#capitalize()\n",
        "a=\"ramya\"\n",
        "x=a.capitalize()\n",
        "print(x)\n"
      ],
      "metadata": {
        "colab": {
          "base_uri": "https://localhost:8080/"
        },
        "id": "PlXG1k4wer-f",
        "outputId": "6b0e20ec-e2c5-49bd-cce8-09d6f0386fb7"
      },
      "execution_count": null,
      "outputs": [
        {
          "output_type": "stream",
          "name": "stdout",
          "text": [
            "Ramya\n"
          ]
        }
      ]
    },
    {
      "cell_type": "code",
      "source": [
        "#casefold()\n",
        "a=\"RAMYA\"\n",
        "x=a.casefold()\n",
        "print(x)"
      ],
      "metadata": {
        "colab": {
          "base_uri": "https://localhost:8080/"
        },
        "id": "4djGwMEKfv07",
        "outputId": "af2b0fc0-123f-4a6b-fc81-59b748056faa"
      },
      "execution_count": null,
      "outputs": [
        {
          "output_type": "stream",
          "name": "stdout",
          "text": [
            "ramya\n"
          ]
        }
      ]
    },
    {
      "cell_type": "code",
      "source": [
        "#center()\n",
        "a=\"ramya\"\n",
        "x=a.center(20)\n",
        "print(x)"
      ],
      "metadata": {
        "colab": {
          "base_uri": "https://localhost:8080/"
        },
        "id": "wUvsl25bf-6X",
        "outputId": "87722d02-d979-4a26-d8a3-0486d10e4a52"
      },
      "execution_count": null,
      "outputs": [
        {
          "output_type": "stream",
          "name": "stdout",
          "text": [
            "       ramya        \n"
          ]
        }
      ]
    },
    {
      "cell_type": "code",
      "source": [
        "#count()\n",
        "a=\"ramya,ramya play games\"\n",
        "x=a.count(\"ramya\")\n",
        "print(x)"
      ],
      "metadata": {
        "colab": {
          "base_uri": "https://localhost:8080/"
        },
        "id": "Rk_BITE7gIP9",
        "outputId": "50d13ca7-d9b3-4260-aa90-9f40526f0179"
      },
      "execution_count": null,
      "outputs": [
        {
          "output_type": "stream",
          "name": "stdout",
          "text": [
            "2\n"
          ]
        }
      ]
    },
    {
      "cell_type": "code",
      "source": [
        "#encode()\n",
        "a=\"my name is ramya\"\n",
        "x=a.encode()\n",
        "print(x)"
      ],
      "metadata": {
        "colab": {
          "base_uri": "https://localhost:8080/"
        },
        "id": "EU2pftgbg6rx",
        "outputId": "3e7e6ce3-30c0-41f1-c1ef-322623ffb906"
      },
      "execution_count": null,
      "outputs": [
        {
          "output_type": "stream",
          "name": "stdout",
          "text": [
            "b'my name is ramya'\n"
          ]
        }
      ]
    },
    {
      "cell_type": "code",
      "source": [
        "#endswith()\n",
        "a=\"ramya\"\n",
        "x=a.endswith(\"a\")\n",
        "print(x)"
      ],
      "metadata": {
        "colab": {
          "base_uri": "https://localhost:8080/"
        },
        "id": "YDvbFgrqmpj9",
        "outputId": "04ae948a-a94b-4431-c6e5-b9034c3bf81a"
      },
      "execution_count": null,
      "outputs": [
        {
          "output_type": "stream",
          "name": "stdout",
          "text": [
            "True\n"
          ]
        }
      ]
    },
    {
      "cell_type": "code",
      "source": [
        "#expendtabs()\n",
        "a=\"r\\ta\\tm\\ty\\ta\"\n",
        "x=a.expandtabs(2)\n",
        "print(x)"
      ],
      "metadata": {
        "colab": {
          "base_uri": "https://localhost:8080/"
        },
        "id": "CRtuGzYkm73e",
        "outputId": "2d70e864-1989-4986-d16a-1ea8f59a6249"
      },
      "execution_count": null,
      "outputs": [
        {
          "output_type": "stream",
          "name": "stdout",
          "text": [
            "r a m y a\n"
          ]
        }
      ]
    },
    {
      "cell_type": "code",
      "source": [
        "#find()\n",
        "a=\"ramya\"\n",
        "x=a.find(\"a\")\n",
        "print(x)"
      ],
      "metadata": {
        "colab": {
          "base_uri": "https://localhost:8080/"
        },
        "id": "T--P20BvnIRp",
        "outputId": "a29833da-7868-472a-e6e8-8bb56c17b00d"
      },
      "execution_count": null,
      "outputs": [
        {
          "output_type": "stream",
          "name": "stdout",
          "text": [
            "1\n"
          ]
        }
      ]
    },
    {
      "cell_type": "code",
      "source": [
        "#format()\n",
        "a=\"my name is {y}\"\n",
        "print(a.format(y=\"ramya\"))"
      ],
      "metadata": {
        "colab": {
          "base_uri": "https://localhost:8080/"
        },
        "id": "ZLRU1prFnZbT",
        "outputId": "2e9b3d50-1062-45a5-d0c8-c1a71755ab77"
      },
      "execution_count": null,
      "outputs": [
        {
          "output_type": "stream",
          "name": "stdout",
          "text": [
            "my name is ramya\n"
          ]
        }
      ]
    },
    {
      "cell_type": "code",
      "source": [
        "#index()\n",
        "a=\"ramya\"\n",
        "x=a.index(\"a\")\n",
        "print(x)"
      ],
      "metadata": {
        "colab": {
          "base_uri": "https://localhost:8080/"
        },
        "id": "yuEkmWSqnjXa",
        "outputId": "bc1dbe9b-047b-404e-ee11-67b832c54128"
      },
      "execution_count": null,
      "outputs": [
        {
          "output_type": "stream",
          "name": "stdout",
          "text": [
            "1\n"
          ]
        }
      ]
    },
    {
      "cell_type": "code",
      "source": [
        "#isalnum()\n",
        "a=\"ramya15\"\n",
        "x=a.isalnum()\n",
        "print(x)"
      ],
      "metadata": {
        "colab": {
          "base_uri": "https://localhost:8080/"
        },
        "id": "WZu02GNheujy",
        "outputId": "693111c4-aad1-46c9-9e04-a3f8850c1cb9"
      },
      "execution_count": null,
      "outputs": [
        {
          "output_type": "stream",
          "name": "stdout",
          "text": [
            "True\n"
          ]
        }
      ]
    },
    {
      "cell_type": "code",
      "source": [
        "#isalpha\n",
        "a=\"Ramya\"\n",
        "x=a.isalpha()\n",
        "print(x)"
      ],
      "metadata": {
        "colab": {
          "base_uri": "https://localhost:8080/"
        },
        "id": "V_hZApPefNsr",
        "outputId": "6b3768a7-7a0c-40dd-9140-e95a44bb7d22"
      },
      "execution_count": null,
      "outputs": [
        {
          "output_type": "stream",
          "name": "stdout",
          "text": [
            "True\n"
          ]
        }
      ]
    },
    {
      "cell_type": "code",
      "source": [
        "#isascii\n",
        "a=\"Ramya\"\n",
        "x=a.isascii()\n",
        "print(x)"
      ],
      "metadata": {
        "colab": {
          "base_uri": "https://localhost:8080/"
        },
        "id": "6jV6aW12fZh2",
        "outputId": "a7a9ebd6-4e0b-47ae-e580-a78f86d17910"
      },
      "execution_count": null,
      "outputs": [
        {
          "output_type": "stream",
          "name": "stdout",
          "text": [
            "True\n"
          ]
        }
      ]
    },
    {
      "cell_type": "code",
      "source": [
        "#isdecimal\n",
        "a=\"131518\"\n",
        "x=a.isdecimal()\n",
        "print(x)"
      ],
      "metadata": {
        "colab": {
          "base_uri": "https://localhost:8080/"
        },
        "id": "p8Wdb-Qffny-",
        "outputId": "879fd6e2-34fe-4486-a4b9-1b32576d39ba"
      },
      "execution_count": null,
      "outputs": [
        {
          "output_type": "stream",
          "name": "stdout",
          "text": [
            "True\n"
          ]
        }
      ]
    },
    {
      "cell_type": "code",
      "source": [
        "#isdigit()\n",
        "a=\"21221\"\n",
        "x=a.isdigit()\n",
        "print(x)"
      ],
      "metadata": {
        "colab": {
          "base_uri": "https://localhost:8080/"
        },
        "id": "lD7XCVH0f_O6",
        "outputId": "7ca5de14-aba9-4e1f-e0df-88f89d2be180"
      },
      "execution_count": null,
      "outputs": [
        {
          "output_type": "stream",
          "name": "stdout",
          "text": [
            "True\n"
          ]
        }
      ]
    },
    {
      "cell_type": "code",
      "source": [
        "#islower\n",
        "n=\"hello world\"\n",
        "t=n.islower()\n",
        "print(t)"
      ],
      "metadata": {
        "colab": {
          "base_uri": "https://localhost:8080/"
        },
        "id": "glI-fWVxVo-l",
        "outputId": "ffd3f327-ab84-417e-e7a7-27a3fcc5b060"
      },
      "execution_count": 1,
      "outputs": [
        {
          "output_type": "stream",
          "name": "stdout",
          "text": [
            "True\n"
          ]
        }
      ]
    },
    {
      "cell_type": "code",
      "source": [
        "#is numeric\n",
        "n=\"12345\"\n",
        "t=n.isnumeric()\n",
        "print(t)"
      ],
      "metadata": {
        "colab": {
          "base_uri": "https://localhost:8080/"
        },
        "id": "WZdUvVusV8-a",
        "outputId": "d7c6972e-f913-4652-c437-602f392742b8"
      },
      "execution_count": 2,
      "outputs": [
        {
          "output_type": "stream",
          "name": "stdout",
          "text": [
            "True\n"
          ]
        }
      ]
    },
    {
      "cell_type": "code",
      "source": [
        "#is space\n",
        "n=\"   \"\n",
        "t=n.isspace()\n",
        "print(t)"
      ],
      "metadata": {
        "colab": {
          "base_uri": "https://localhost:8080/"
        },
        "id": "VT0xemJoWYOm",
        "outputId": "b99d5cf2-348f-4239-cce1-9d8d8781ebaa"
      },
      "execution_count": 3,
      "outputs": [
        {
          "output_type": "stream",
          "name": "stdout",
          "text": [
            "True\n"
          ]
        }
      ]
    },
    {
      "cell_type": "code",
      "source": [
        "#is title\n",
        "n=\"Hello World\"\n",
        "t=n.istitle()\n",
        "print(t)"
      ],
      "metadata": {
        "colab": {
          "base_uri": "https://localhost:8080/"
        },
        "id": "zV2xcGbtWyf2",
        "outputId": "f8452c18-86f3-4ba8-8182-e935088d836b"
      },
      "execution_count": 4,
      "outputs": [
        {
          "output_type": "stream",
          "name": "stdout",
          "text": [
            "True\n"
          ]
        }
      ]
    },
    {
      "cell_type": "code",
      "source": [
        "# is upper\n",
        "n=\"HELLO\"\n",
        "t=n.isupper()\n",
        "print(t)"
      ],
      "metadata": {
        "colab": {
          "base_uri": "https://localhost:8080/"
        },
        "id": "oUAu1Ss6W-KJ",
        "outputId": "5d407c88-a4e1-484a-cd5c-8ec7ac147332"
      },
      "execution_count": 5,
      "outputs": [
        {
          "output_type": "stream",
          "name": "stdout",
          "text": [
            "True\n"
          ]
        }
      ]
    },
    {
      "cell_type": "code",
      "source": [
        "#join\n",
        "n=(\"hello\",\"world\")\n",
        "t=\" @ \".join(n)\n",
        "print(t)"
      ],
      "metadata": {
        "colab": {
          "base_uri": "https://localhost:8080/"
        },
        "id": "0frBNca8XIra",
        "outputId": "24f14d3f-84e8-4710-a97c-4594f5ec929b"
      },
      "execution_count": 8,
      "outputs": [
        {
          "output_type": "stream",
          "name": "stdout",
          "text": [
            "hello @ world\n"
          ]
        }
      ]
    },
    {
      "cell_type": "code",
      "source": [
        "#ljust\n",
        "n=\"hello\"\n",
        "t=n.ljust(20)\n",
        "print(t,\"world\")"
      ],
      "metadata": {
        "colab": {
          "base_uri": "https://localhost:8080/"
        },
        "id": "jPv6Kut_XdVO",
        "outputId": "78bfb0f7-51af-4c27-9c95-b26904d77b08"
      },
      "execution_count": 9,
      "outputs": [
        {
          "output_type": "stream",
          "name": "stdout",
          "text": [
            "hello                world\n"
          ]
        }
      ]
    },
    {
      "cell_type": "code",
      "source": [
        "#lower\n",
        "n=\"HELLO WORLD\"\n",
        "t=n.lower()\n",
        "print(t)"
      ],
      "metadata": {
        "colab": {
          "base_uri": "https://localhost:8080/"
        },
        "id": "nsOYHO7lXrsT",
        "outputId": "c3c7049b-bc56-40c6-e2ff-a936e9d34044"
      },
      "execution_count": 10,
      "outputs": [
        {
          "output_type": "stream",
          "name": "stdout",
          "text": [
            "hello world\n"
          ]
        }
      ]
    },
    {
      "cell_type": "code",
      "source": [
        "#lstrip\n",
        "n=\"   hello world    \"\n",
        "t=n.lstrip()\n",
        "print(t)"
      ],
      "metadata": {
        "colab": {
          "base_uri": "https://localhost:8080/"
        },
        "id": "vPRLSdaXX674",
        "outputId": "70258016-c8f5-47d0-f4d3-00ad8daf56b3"
      },
      "execution_count": 11,
      "outputs": [
        {
          "output_type": "stream",
          "name": "stdout",
          "text": [
            "hello world    \n"
          ]
        }
      ]
    },
    {
      "cell_type": "code",
      "source": [
        "#maketranse\n",
        "n=\"i am sam\"\n",
        "t=n.maketrans(\"s\",\"p\")\n",
        "print(n.translate(t))\n"
      ],
      "metadata": {
        "colab": {
          "base_uri": "https://localhost:8080/"
        },
        "id": "2dMNnbe7YN4S",
        "outputId": "56fb3423-86bc-43c8-c6ce-f3b358a871e3"
      },
      "execution_count": 12,
      "outputs": [
        {
          "output_type": "stream",
          "name": "stdout",
          "text": [
            "i am pam\n"
          ]
        }
      ]
    },
    {
      "cell_type": "code",
      "source": [
        "#partition\n",
        "n=\"i am sam\"\n",
        "t=n.partition(\"am\")\n",
        "print(t)"
      ],
      "metadata": {
        "colab": {
          "base_uri": "https://localhost:8080/"
        },
        "id": "k1jGw1F3YfpN",
        "outputId": "8151d70f-4757-4530-ee2a-33a56eb6a5d2"
      },
      "execution_count": 13,
      "outputs": [
        {
          "output_type": "stream",
          "name": "stdout",
          "text": [
            "('i ', 'am', ' sam')\n"
          ]
        }
      ]
    },
    {
      "cell_type": "code",
      "source": [
        "#replace\n",
        "n=\"i am sam\"\n",
        "t=n.replace(\"am\",\"was\")\n",
        "print(t)"
      ],
      "metadata": {
        "colab": {
          "base_uri": "https://localhost:8080/"
        },
        "id": "ey_RO0hAYrj1",
        "outputId": "67db9550-4d35-42c3-8b0b-941064f12d76"
      },
      "execution_count": 14,
      "outputs": [
        {
          "output_type": "stream",
          "name": "stdout",
          "text": [
            "i was swas\n"
          ]
        }
      ]
    },
    {
      "cell_type": "code",
      "source": [
        "#rfind\n",
        "n=\"i am sam\"\n",
        "t=n.rfind(\"am\")\n",
        "print(t)"
      ],
      "metadata": {
        "colab": {
          "base_uri": "https://localhost:8080/"
        },
        "id": "Gwp3H5viY3yA",
        "outputId": "2d52387e-e963-4b25-bea1-16e08613cc7d"
      },
      "execution_count": 15,
      "outputs": [
        {
          "output_type": "stream",
          "name": "stdout",
          "text": [
            "6\n"
          ]
        }
      ]
    },
    {
      "cell_type": "code",
      "source": [
        "#rpartition\n",
        "n=\"i am banana, sam likes banana\"\n",
        "t=n.rpartition(\"banana\")\n",
        "print(t)"
      ],
      "metadata": {
        "colab": {
          "base_uri": "https://localhost:8080/"
        },
        "id": "sRwaw4R1ZNUA",
        "outputId": "0bf79f64-fa33-4604-fc7d-6e9970246ab3"
      },
      "execution_count": 16,
      "outputs": [
        {
          "output_type": "stream",
          "name": "stdout",
          "text": [
            "('i am banana, sam likes ', 'banana', '')\n"
          ]
        }
      ]
    },
    {
      "cell_type": "code",
      "source": [
        "#rstrip\n",
        "n=\"   hello world    \"\n",
        "t=n.rstrip()\n",
        "print(t)"
      ],
      "metadata": {
        "colab": {
          "base_uri": "https://localhost:8080/"
        },
        "id": "JbHgX_WrZo_c",
        "outputId": "196fefd2-704d-44c4-f07f-d0a171410c1d"
      },
      "execution_count": 17,
      "outputs": [
        {
          "output_type": "stream",
          "name": "stdout",
          "text": [
            "   hello world\n"
          ]
        }
      ]
    },
    {
      "cell_type": "code",
      "source": [
        "#split\n",
        "n=\"i am sam\"\n",
        "t=n.split()\n",
        "print(t)"
      ],
      "metadata": {
        "colab": {
          "base_uri": "https://localhost:8080/"
        },
        "id": "X4w7t_GBZyDq",
        "outputId": "995fca63-5b23-4527-a141-05581ce49d09"
      },
      "execution_count": 18,
      "outputs": [
        {
          "output_type": "stream",
          "name": "stdout",
          "text": [
            "['i', 'am', 'sam']\n"
          ]
        }
      ]
    },
    {
      "cell_type": "code",
      "source": [
        "#splitlines\n",
        "n= \"i am sam/nsam like banana\"\n",
        "t=n.splitlines()\n",
        "print(t)"
      ],
      "metadata": {
        "colab": {
          "base_uri": "https://localhost:8080/"
        },
        "id": "iFH3SpBYZ50B",
        "outputId": "10764c3e-ca52-45c0-d2f3-41c87f51a0ab"
      },
      "execution_count": 25,
      "outputs": [
        {
          "output_type": "stream",
          "name": "stdout",
          "text": [
            "['i am sam/nsam like banana']\n"
          ]
        }
      ]
    },
    {
      "cell_type": "code",
      "source": [
        "#startswith\n",
        "n=\"i am sam\"\n",
        "t=n.startswith(\"i\")\n",
        "print(t)"
      ],
      "metadata": {
        "colab": {
          "base_uri": "https://localhost:8080/"
        },
        "id": "2OpMMSK_alh0",
        "outputId": "4a3fc609-9d07-4f00-a59d-da790073f03f"
      },
      "execution_count": 26,
      "outputs": [
        {
          "output_type": "stream",
          "name": "stdout",
          "text": [
            "True\n"
          ]
        }
      ]
    },
    {
      "cell_type": "code",
      "source": [
        "#strip\n",
        "n=\"     banana     \"\n",
        "t=n.strip()\n",
        "print(\"i like\", n, \"so much\")"
      ],
      "metadata": {
        "colab": {
          "base_uri": "https://localhost:8080/"
        },
        "id": "eNOe9TCdawGm",
        "outputId": "46b695aa-8e84-4858-f8ec-40a769c99855"
      },
      "execution_count": 28,
      "outputs": [
        {
          "output_type": "stream",
          "name": "stdout",
          "text": [
            "i like      banana      so much\n"
          ]
        }
      ]
    },
    {
      "cell_type": "code",
      "source": [
        "#swapcase\n",
        "n=\"heLLo worLd\"\n",
        "t=n.swapcase()\n",
        "print(t)"
      ],
      "metadata": {
        "colab": {
          "base_uri": "https://localhost:8080/"
        },
        "id": "fozWa3TDbNd-",
        "outputId": "c78f3052-d24b-4db8-a4fa-80084397dd6f"
      },
      "execution_count": 30,
      "outputs": [
        {
          "output_type": "stream",
          "name": "stdout",
          "text": [
            "HEllO WORlD\n"
          ]
        }
      ]
    },
    {
      "cell_type": "code",
      "source": [
        "#title\n",
        "n=\"the brook\"\n",
        "t=n.title()\n",
        "print(t)"
      ],
      "metadata": {
        "colab": {
          "base_uri": "https://localhost:8080/"
        },
        "id": "oyoout2cboB2",
        "outputId": "dd882c13-07c5-467f-d06c-beff480e74af"
      },
      "execution_count": 31,
      "outputs": [
        {
          "output_type": "stream",
          "name": "stdout",
          "text": [
            "The Brook\n"
          ]
        }
      ]
    },
    {
      "cell_type": "code",
      "source": [
        "#upper\n",
        "n=\"the brook\"\n",
        "t=n.upper()\n",
        "print(t)"
      ],
      "metadata": {
        "colab": {
          "base_uri": "https://localhost:8080/"
        },
        "id": "ne0EC2aXb4-r",
        "outputId": "b65365d9-2500-4847-e5ed-ae8b8c8a8cb4"
      },
      "execution_count": 32,
      "outputs": [
        {
          "output_type": "stream",
          "name": "stdout",
          "text": [
            "THE BROOK\n"
          ]
        }
      ]
    },
    {
      "cell_type": "code",
      "source": [
        "#zfill\n",
        "n=\"55\"\n",
        "t=n.zfill(10)\n",
        "print(t)"
      ],
      "metadata": {
        "colab": {
          "base_uri": "https://localhost:8080/"
        },
        "id": "mI7P3VN7cNUc",
        "outputId": "eaeed2da-679c-4658-cfe6-65b1343d26bb"
      },
      "execution_count": 33,
      "outputs": [
        {
          "output_type": "stream",
          "name": "stdout",
          "text": [
            "0000000055\n"
          ]
        }
      ]
    }
  ]
}