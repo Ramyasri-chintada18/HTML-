{
  "nbformat": 4,
  "nbformat_minor": 0,
  "metadata": {
    "colab": {
      "provenance": [],
      "authorship_tag": "ABX9TyOIdKpT4LMKwEmTwhVELITq",
      "include_colab_link": true
    },
    "kernelspec": {
      "name": "python3",
      "display_name": "Python 3"
    },
    "language_info": {
      "name": "python"
    }
  },
  "cells": [
    {
      "cell_type": "markdown",
      "metadata": {
        "id": "view-in-github",
        "colab_type": "text"
      },
      "source": [
        "<a href=\"https://colab.research.google.com/github/Ramyasri-chintada18/HTML-/blob/main/basic_programs_2.ipynb\" target=\"_parent\"><img src=\"https://colab.research.google.com/assets/colab-badge.svg\" alt=\"Open In Colab\"/></a>"
      ]
    },
    {
      "cell_type": "code",
      "execution_count": null,
      "metadata": {
        "id": "mLsaMj1p0qL5"
      },
      "outputs": [],
      "source": [
        "#maximum of 4 members\n",
        "a=int(input(\"enter first number\"))\n",
        "b=int(input(\"enter second number\"))\n",
        "c=int(input(\"enter third number\"))\n",
        "d=int(input(\"enter forth number\"))\n",
        "if(a>b and a>c and a>d):\n",
        "     print(\"a is big\")\n",
        "elif(b>a and b>c and b>d):\n",
        "     print(\"b is big\")\n",
        "elif(c>a and c>b and c>d):\n",
        "     print(\" c is big\")\n",
        "else:\n",
        "     print(\"d is big\")"
      ]
    },
    {
      "cell_type": "code",
      "source": [
        "a=int(input(\"enter age\"));\n",
        "if(a<18):\n",
        "    print(\"a is not eligible\")\n",
        "elif(a==18):\n",
        "    print(\"a is eligible\")\n",
        "else:\n",
        "    print(\"a is eligible to vote\")"
      ],
      "metadata": {
        "id": "zeYRudTO1Bj_"
      },
      "execution_count": null,
      "outputs": []
    },
    {
      "cell_type": "code",
      "source": [
        "a=int(input(\"enter age:\"))\n",
        "if(a<=10):\n",
        "    print(\"child\")\n",
        "elif(a==18):\n",
        "    print(\"adult\")\n",
        "elif(a>18 and a<=30):\n",
        "    print(\"teen age\")\n",
        "elif(a>30 and a<=45):\n",
        "    print(\"women\")\n",
        "else:\n",
        "    print(\"old\")"
      ],
      "metadata": {
        "id": "fh4U3Xac1GZu"
      },
      "execution_count": null,
      "outputs": []
    },
    {
      "cell_type": "code",
      "source": [
        "a=int(input(\"enter student marks\"))\n",
        "if(a<10):\n",
        "    print(\"fail\")\n",
        "elif(a>10 and a<=35):\n",
        "    print(\"pass\")\n",
        "elif(a>=35 and a<=75):\n",
        "    print(\"average\")\n",
        "else:\n",
        "    print(\"topper\")"
      ],
      "metadata": {
        "id": "X4e_H-Q41LdO"
      },
      "execution_count": null,
      "outputs": []
    },
    {
      "cell_type": "code",
      "source": [
        "a=int(input(\"enter number\"))\n",
        "if(a%7==0):\n",
        "    print(\"Hello\")\n",
        "else:\n",
        "    print(\"Bye\")"
      ],
      "metadata": {
        "id": "EoTNco001SXT"
      },
      "execution_count": null,
      "outputs": []
    },
    {
      "cell_type": "code",
      "source": [
        "a=int(input(\"enter name\"))\n",
        "if(a%3==0):\n",
        "    print(\"It is divisible by 3\")\n",
        "else:\n",
        "    print(\"It is not divisible by 3\")"
      ],
      "metadata": {
        "id": "JI1srmrd1Sa4"
      },
      "execution_count": null,
      "outputs": []
    }
  ]
}